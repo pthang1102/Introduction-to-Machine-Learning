{
 "cells": [
  {
   "cell_type": "markdown",
   "metadata": {
    "colab_type": "text",
    "id": "XL6jDiByiIz9"
   },
   "source": [
    "# Introduction to Machine Learning\n",
    "---"
   ]
  },
  {
   "cell_type": "markdown",
   "metadata": {
    "colab_type": "text",
    "id": "nrpRDyr8lTOI"
   },
   "source": [
    "# Chapter 1 Perceptron"
   ]
  },
  {
   "cell_type": "markdown",
   "metadata": {
    "colab_type": "text",
    "id": "o9H6BeH3kdwg"
   },
   "source": [
    "## Exercise 1.1\n",
    "<b>For the following formal neuron, given the values of inputs, weights and a\n",
    "threshold as shown in the table below, find the weighted sum values and outputs.</b><br>\n",
    "w1 = 2, w2 = 3, h = 2\n",
    "\n",
    "| x1 | x2 | Sigma wx | y |\n",
    "|----|----|----|----|\n",
    "|0   |0   |0   |0   |\n",
    "|0   |1   |3   |1   |\n",
    "|1   |0   |2   |0   |\n",
    "|1   |1   |5   |1   |\n"
   ]
  },
  {
   "cell_type": "markdown",
   "metadata": {
    "colab_type": "text",
    "id": "APyu4nQAk9bR"
   },
   "source": [
    "## Exercise 1.2\n",
    "<b>For the following formal neuron, given the values of inputs, weights and a\n",
    "threshold as shown in the table below, find the weighted sum values and outputs.</b><br>\n",
    "w1 = -3, w2 = -5, h = -4\n",
    "\n",
    "| x1 | x2 | Sigma wx | y |\n",
    "|----|----|----|----|\n",
    "|0   |0   |0   |1   |\n",
    "|0   |1   |-5  |0   |\n",
    "|1   |0   |-3  |1   |\n",
    "|1   |1   |-8  |0   |\n"
   ]
  },
  {
   "cell_type": "markdown",
   "metadata": {
    "colab_type": "text",
    "id": "MVQ_DAy4lK9-"
   },
   "source": [
    "## Exercise 1.3\n",
    "<b>For the following neuron, determine the weights and the threshold so that the\n",
    "outputs 𝑦 for each input are as shown in the table below.</b><br>\n",
    "\n",
    "| x1 | x2 | Sigma wx | y |\n",
    "|----|----|----|----|\n",
    "|0   |0   |0   |0   |\n",
    "|0   |1   |2   |1   |\n",
    "|1   |0   |1   |0   |\n",
    "|1   |1   |3   |1   |\n",
    "\n",
    "weight for x1 = 1\n",
    "\n",
    "weight for x2 = 2\n",
    "\n",
    "threshold = 1\n"
   ]
  },
  {
   "cell_type": "markdown",
   "metadata": {
    "colab_type": "text",
    "id": "rlFR-UgaiaMm"
   },
   "source": [
    "## Exercise 1.4\n",
    "<b>For the following formal neuron, given the values of inputs, weights and a\n",
    "threshold as shown in the table below, find the weighted sum values and outputs.</b><br>\n",
    "w1 = 2, w2 = 3, w3 = 1, h = 2\n",
    "\n",
    "\n",
    "| x1 | x2 | x3 | Sigma wx | y |\n",
    "|----|----|----|----|----|\n",
    "|0   |0   |0   |0   |0   |\n",
    "|0   |0   |1   |1   |0   |\n",
    "|0   |1   |0   |3   |1   |\n",
    "|0   |1   |1   |4   |1   |\n",
    "|1   |0   |0   |2   |0   |\n",
    "|1   |0   |1   |3   |1   |\n",
    "|1   |1   |0   |5   |1   |\n",
    "|1   |1   |1   |6   |1   |"
   ]
  },
  {
   "cell_type": "markdown",
   "metadata": {
    "colab_type": "text",
    "id": "s63EXbymmKY_"
   },
   "source": [
    "## Exercise 1.5\n",
    "<b>For the following formal neuron, given the values of inputs, weights and a\n",
    "threshold as shown in the table below, find the weighted sum values and outputs.</b><br>\n",
    "w1 = 2, w2 = -3, w3 = -1, h = -1\n",
    "\n",
    "| x1 | x2 | x3 | Sigma wx | y |\n",
    "|----|----|----|----|----|\n",
    "|0   |0   |0   |0   |1   |\n",
    "|0   |0   |1   |-1  |0   |\n",
    "|0   |1   |0   |-3  |0   |\n",
    "|0   |1   |1   |-4  |0   |\n",
    "|1   |0   |0   |2   |1   |\n",
    "|1   |0   |1   |1   |1   |\n",
    "|1   |1   |0   |-1  |0   |\n",
    "|1   |1   |1   |-2  |0   |"
   ]
  },
  {
   "cell_type": "markdown",
   "metadata": {
    "colab_type": "text",
    "id": "3agGIMc1mNf-"
   },
   "source": [
    "## Exercise 1.6\n",
    "<b>For the following neuron, determine the weights and the threshold so that the\n",
    "outputs 𝑦 for each input are as shown in the table below.</b><br>\n",
    "<b>Can you find these values?</b><br>\n",
    "\n",
    "\n",
    "| x1 | x2 | x3 | Sigma wx | y |\n",
    "|----|----|----|----|----|\n",
    "|0   |0   |0   |0   |0   |\n",
    "|0   |0   |1   |1   |1   |\n",
    "|0   |1   |0   |-2  |0   |\n",
    "|0   |1   |1   |-1  |0   |\n",
    "|1   |0   |0   |3   |1   |\n",
    "|1   |0   |1   |4   |1   |\n",
    "|1   |1   |0   |1   |1   |\n",
    "|1   |1   |1   |2   |1   |\n",
    "\n",
    "weight for x1 = 3\n",
    "\n",
    "weight for x2 = -2\n",
    "\n",
    "weight for x3 = 1\n",
    "\n",
    "threshold = 0\n",
    "\n"
   ]
  },
  {
   "cell_type": "markdown",
   "metadata": {
    "colab_type": "text",
    "id": "Cviahf5sinOi"
   },
   "source": [
    "## Example 1.2"
   ]
  },
  {
   "cell_type": "code",
   "execution_count": 34,
   "metadata": {
    "colab": {
     "base_uri": "https://localhost:8080/",
     "height": 34
    },
    "colab_type": "code",
    "id": "2RSiSz_Hh_0d",
    "outputId": "d6c36b55-1eb1-45a7-95a1-77761ffb0937"
   },
   "outputs": [
    {
     "data": {
      "text/plain": [
       "1"
      ]
     },
     "execution_count": 34,
     "metadata": {},
     "output_type": "execute_result"
    }
   ],
   "source": [
    "import numpy as np\n",
    "\n",
    "x = np.array([1, 0, 1])\n",
    "w = np.array([2, 3, -1])\n",
    "np.dot(x, w.T)"
   ]
  },
  {
   "cell_type": "code",
   "execution_count": 35,
   "metadata": {
    "colab": {
     "base_uri": "https://localhost:8080/",
     "height": 34
    },
    "colab_type": "code",
    "id": "iQO8JUYRnZ_J",
    "outputId": "d535092c-9ae0-4384-e7f1-69e4db07511f"
   },
   "outputs": [
    {
     "data": {
      "text/plain": [
       "array([1])"
      ]
     },
     "execution_count": 35,
     "metadata": {},
     "output_type": "execute_result"
    }
   ],
   "source": [
    "import numpy as np\n",
    "\n",
    "x = np.array([1, 0, 1])\n",
    "w = np.array([[2], [3], [-1]])\n",
    "np.dot(x, w)"
   ]
  },
  {
   "cell_type": "markdown",
   "metadata": {
    "colab_type": "text",
    "id": "yVRCXq1mn-1d"
   },
   "source": [
    "## Example 1.3"
   ]
  },
  {
   "cell_type": "code",
   "execution_count": 36,
   "metadata": {
    "colab": {
     "base_uri": "https://localhost:8080/",
     "height": 34
    },
    "colab_type": "code",
    "id": "fUZ7kM5zoCYi",
    "outputId": "49e699cd-8bc9-48c8-f0f7-8323ccb78714"
   },
   "outputs": [
    {
     "name": "stdout",
     "output_type": "stream",
     "text": [
      "True\n"
     ]
    }
   ],
   "source": [
    "a = 3\n",
    "b = 2\n",
    "print(a > b)"
   ]
  },
  {
   "cell_type": "code",
   "execution_count": 37,
   "metadata": {
    "colab": {
     "base_uri": "https://localhost:8080/",
     "height": 34
    },
    "colab_type": "code",
    "id": "LqoGiAECoGT_",
    "outputId": "0d7270a3-8f51-46e7-aac7-0e502b2cbafa"
   },
   "outputs": [
    {
     "name": "stdout",
     "output_type": "stream",
     "text": [
      "False\n"
     ]
    }
   ],
   "source": [
    "a = 2\n",
    "b = 3\n",
    "print(a > b)"
   ]
  },
  {
   "cell_type": "markdown",
   "metadata": {
    "colab_type": "text",
    "id": "o-f21jLwoPSk"
   },
   "source": [
    "## Exercise 1.7\n",
    "Get the following dot product in Python or MATLAB.<br>\n",
    "Note that the definition of row vectors and the definition of column vectors are\n",
    "different in the program.<br>\n",
    "Also check that you get an error when you try to calculate whose dimensions do\n",
    "not match.<br>\n",
    "(A) xw\n",
    "(B) xw^t\n",
    "(C) x^tw\n",
    "(D) x^tw^t\n",
    "<br>, where x = [3 5 1 6], w = [2 7 1 2]"
   ]
  },
  {
   "cell_type": "code",
   "execution_count": 38,
   "metadata": {
    "colab": {
     "base_uri": "https://localhost:8080/",
     "height": 134
    },
    "colab_type": "code",
    "id": "oPVL7tzJoS5m",
    "outputId": "6bedde25-019e-416e-8ba0-f0302f310f4a"
   },
   "outputs": [
    {
     "name": "stdout",
     "output_type": "stream",
     "text": [
      "54\n",
      "54\n",
      "54\n",
      "54\n"
     ]
    }
   ],
   "source": [
    "import numpy as np\n",
    "\n",
    "x = np.array([3, 5, 1, 6])\n",
    "w = np.array([2, 7, 1, 2])\n",
    "print(np.dot(x, w))\n",
    "print(np.dot(x, w.T))\n",
    "print(np.dot(x.T, w))\n",
    "print(np.dot(x.T, w.T))"
   ]
  },
  {
   "cell_type": "markdown",
   "metadata": {
    "colab_type": "text",
    "id": "Ffhlcx-jiHiS"
   },
   "source": [
    "## Exercise 1.8\n",
    "Perform the following comparison operations in Python or MATLAB.<br>\n",
    "Check the results of vector to scalar and vector to vector comparisons.<br>\n",
    "(A) a > b\n",
    "(B) b > a\n",
    "(C) x > a\n",
    "(D) x > w\n",
    "<br>, where a = 5, b = 3, x = [3 5 1 6], w = [2 7 1 2]"
   ]
  },
  {
   "cell_type": "code",
   "execution_count": 39,
   "metadata": {
    "colab": {},
    "colab_type": "code",
    "id": "U7wOrtSOopUj"
   },
   "outputs": [],
   "source": [
    "import numpy as np\n",
    "\n",
    "a = 5\n",
    "b = 3\n",
    "x = np.array([3, 5, 1, 6])\n",
    "w = np.array([2, 7, 1, 2])"
   ]
  },
  {
   "cell_type": "markdown",
   "metadata": {},
   "source": [
    "(A) a > b"
   ]
  },
  {
   "cell_type": "code",
   "execution_count": 40,
   "metadata": {},
   "outputs": [
    {
     "name": "stdout",
     "output_type": "stream",
     "text": [
      "True\n"
     ]
    }
   ],
   "source": [
    "print(a > b)"
   ]
  },
  {
   "cell_type": "markdown",
   "metadata": {},
   "source": [
    "(B) b > a"
   ]
  },
  {
   "cell_type": "code",
   "execution_count": 41,
   "metadata": {},
   "outputs": [
    {
     "name": "stdout",
     "output_type": "stream",
     "text": [
      "False\n"
     ]
    }
   ],
   "source": [
    "print(b > a)"
   ]
  },
  {
   "cell_type": "markdown",
   "metadata": {},
   "source": [
    "(C) x > a"
   ]
  },
  {
   "cell_type": "code",
   "execution_count": 42,
   "metadata": {},
   "outputs": [
    {
     "name": "stdout",
     "output_type": "stream",
     "text": [
      "[False False False  True]\n"
     ]
    }
   ],
   "source": [
    "print(x > a)"
   ]
  },
  {
   "cell_type": "markdown",
   "metadata": {},
   "source": [
    "(D) x > w"
   ]
  },
  {
   "cell_type": "code",
   "execution_count": 43,
   "metadata": {},
   "outputs": [
    {
     "name": "stdout",
     "output_type": "stream",
     "text": [
      "[ True False False  True]\n"
     ]
    }
   ],
   "source": [
    "print(x > w)"
   ]
  },
  {
   "cell_type": "markdown",
   "metadata": {
    "colab_type": "text",
    "id": "Ve5oXsHTiFoP"
   },
   "source": [
    "## Example 1.4"
   ]
  },
  {
   "cell_type": "code",
   "execution_count": 44,
   "metadata": {
    "colab": {
     "base_uri": "https://localhost:8080/",
     "height": 34
    },
    "colab_type": "code",
    "id": "VXD4cw9Cny-Z",
    "outputId": "177c76b6-68cb-425e-efb7-74838aeecad3"
   },
   "outputs": [
    {
     "name": "stdout",
     "output_type": "stream",
     "text": [
      "1\n"
     ]
    }
   ],
   "source": [
    "import numpy as np\n",
    "\n",
    "x = np.array([1, 1, 0])\n",
    "w = np.array([0.5, 1.0, 0.5])\n",
    "h = 1\n",
    "\n",
    "def formal_neuron(x, w, h):\n",
    "\n",
    "    p = np.dot(x, w)\n",
    "    y = p > h\n",
    "    #cast from  boolean to integer\n",
    "    return y.astype(np.int)\n",
    "\n",
    "y = formal_neuron(x, w.T, h)\n",
    "print(y)"
   ]
  },
  {
   "cell_type": "markdown",
   "metadata": {
    "colab_type": "text",
    "id": "kKA1DpSoyO1F"
   },
   "source": [
    "## Exercise 1.9\n",
    "Implement example1.4 in Pythons or MATLAB.<br>\n",
    "Check the outputs where inputs, weights and a threshold are given as\n",
    "follows by both hand calculation and Python or MATLAB scripts.<br>\n",
    "w = [2, -1, 3], h = 1"
   ]
  },
  {
   "cell_type": "code",
   "execution_count": 45,
   "metadata": {
    "colab": {},
    "colab_type": "code",
    "id": "vJzRAldYyVfR"
   },
   "outputs": [
    {
     "name": "stdout",
     "output_type": "stream",
     "text": [
      "[0 1 0 1 1 1 0 1]\n"
     ]
    }
   ],
   "source": [
    "import numpy as np\n",
    "\n",
    "x = np.array([[0, 0, 0], [0, 0, 1], [0, 1, 0], [0, 1, 1], [1, 0, 0], [1, 0, 1], [1, 1, 0], [1, 1, 1]])\n",
    "w = np.array([2, -1, 3])\n",
    "h = 1\n",
    "\n",
    "y = formal_neuron(x, w.T, h)\n",
    "print(y)"
   ]
  },
  {
   "cell_type": "markdown",
   "metadata": {
    "colab_type": "text",
    "id": "dv5YiQ6zzvyx"
   },
   "source": [
    "## Example 1.5"
   ]
  },
  {
   "cell_type": "code",
   "execution_count": 46,
   "metadata": {
    "colab": {
     "base_uri": "https://localhost:8080/",
     "height": 34
    },
    "colab_type": "code",
    "id": "EIFSy2CuzydZ",
    "outputId": "d750a78e-d87d-4dc9-9ee5-ac1823ca330a"
   },
   "outputs": [
    {
     "name": "stdout",
     "output_type": "stream",
     "text": [
      "[0 0 0 1 0 0 1 1]\n"
     ]
    }
   ],
   "source": [
    "import numpy as np\n",
    "\n",
    "x = np.array([[0,0,0],\n",
    "              [0,0,1],\n",
    "              [0,1,0],\n",
    "              [0,1,1],\n",
    "              [1,0,0],\n",
    "              [1,0,1],\n",
    "              [1,1,0],\n",
    "              [1,1,1]])\n",
    "w = np.array([0.5, 1.0, 0.5])\n",
    "h = 1\n",
    "\n",
    "def formal_neuron(x, w, h):\n",
    "\n",
    "    p = np.dot(x, w)\n",
    "    y = p > h\n",
    "    #cast from boolean to integer\n",
    "    return y.astype(np.int)\n",
    "\n",
    "y = formal_neuron(x, w.T, h)\n",
    "print(y)"
   ]
  },
  {
   "cell_type": "markdown",
   "metadata": {
    "colab_type": "text",
    "id": "vX6oLpWT-QPP"
   },
   "source": [
    "## Exercise 1.10"
   ]
  },
  {
   "cell_type": "code",
   "execution_count": 47,
   "metadata": {
    "colab": {},
    "colab_type": "code",
    "id": "BK1rL-6Y-URo"
   },
   "outputs": [
    {
     "name": "stdout",
     "output_type": "stream",
     "text": [
      "[1 0 0]\n"
     ]
    }
   ],
   "source": [
    "import numpy as np\n",
    "x = np.array([[1, 0, 1],\n",
    "              [0, 1, 0],\n",
    "              [1, 1, 1]])\n",
    "w = np.array([0.6, -1.5, 1.0])\n",
    "h = 1.0\n",
    "\n",
    "y = formal_neuron(x, w.T, h)\n",
    "print(y)"
   ]
  },
  {
   "cell_type": "markdown",
   "metadata": {},
   "source": [
    "## Exercise 1.11"
   ]
  },
  {
   "cell_type": "code",
   "execution_count": 48,
   "metadata": {},
   "outputs": [
    {
     "name": "stdout",
     "output_type": "stream",
     "text": [
      "[1 0 1]\n"
     ]
    }
   ],
   "source": [
    "import numpy as np\n",
    "x = np.array([[1, 0, 1, 1],\n",
    "              [0, 0, 1, 0],\n",
    "              [1, 0, 1, 0]])\n",
    "w = np.array([0.5, 1, 1.5, 0])\n",
    "h = 1.5\n",
    "\n",
    "y = formal_neuron(x, w.T, h)\n",
    "print(y)"
   ]
  },
  {
   "cell_type": "markdown",
   "metadata": {
    "colab_type": "text",
    "id": "vLLXJvza-Y0E"
   },
   "source": [
    "## Example 1.6"
   ]
  },
  {
   "cell_type": "code",
   "execution_count": 49,
   "metadata": {
    "colab": {},
    "colab_type": "code",
    "id": "uydGdr5B-X0N"
   },
   "outputs": [
    {
     "name": "stdout",
     "output_type": "stream",
     "text": [
      "[[0 0]\n",
      " [0 0]\n",
      " [1 0]\n",
      " [1 1]\n",
      " [0 0]\n",
      " [1 0]\n",
      " [1 0]\n",
      " [1 1]]\n"
     ]
    }
   ],
   "source": [
    "import numpy as np\n",
    "\n",
    "x=np.array([[0,0,0],\n",
    "            [0,0,1],\n",
    "            [0,1,0],\n",
    "            [0,1,1],\n",
    "            [1,0,0],\n",
    "            [1,0,1],\n",
    "            [1,1,0],\n",
    "            [1,1,1]])\n",
    "w = np.array([[0.5, 0.0],\n",
    "              [1.0, 0.5],\n",
    "              [0.5, 1.0]])\n",
    "h = np.array([0.5, 1.0])\n",
    "\n",
    "def formal_neuron(x, w, h):\n",
    "  p = np.dot(x, w)\n",
    "  y = p > h\n",
    "  #convert boolean to integer\n",
    "  return y.astype(np.int)\n",
    "  \n",
    "y = formal_neuron(x, w, h)\n",
    "print(y)\n"
   ]
  },
  {
   "cell_type": "markdown",
   "metadata": {
    "colab_type": "text",
    "id": "DLrhwgyrAr81"
   },
   "source": [
    "## Exercise 1.12"
   ]
  },
  {
   "cell_type": "code",
   "execution_count": 50,
   "metadata": {
    "colab": {},
    "colab_type": "code",
    "id": "dsp-Qd6ZAvCR"
   },
   "outputs": [
    {
     "name": "stdout",
     "output_type": "stream",
     "text": [
      "[[0 1 0]\n",
      " [0 1 0]\n",
      " [0 1 1]\n",
      " [0 1 0]]\n"
     ]
    }
   ],
   "source": [
    "import numpy as np\n",
    "x = np.array([[1, 0, 1],\n",
    "              [0, 1, 0],\n",
    "              [1, 1, 1],\n",
    "              [0, 1, 1]])\n",
    "w = np.array([[2, -1, 3],\n",
    "              [0, 4, 1],\n",
    "              [-4, 2, -2]])\n",
    "h= np.array([2, 0, 1])\n",
    "\n",
    "y = formal_neuron(x, w, h)\n",
    "print(y)"
   ]
  },
  {
   "cell_type": "markdown",
   "metadata": {
    "colab_type": "text",
    "id": "etSQc-JwA3q4"
   },
   "source": [
    "## Exercise1.13"
   ]
  },
  {
   "cell_type": "code",
   "execution_count": 51,
   "metadata": {
    "colab": {},
    "colab_type": "code",
    "id": "ELvjNgZgA0dx"
   },
   "outputs": [
    {
     "name": "stdout",
     "output_type": "stream",
     "text": [
      "[[1 0 1 0]\n",
      " [0 1 1 0]\n",
      " [0 1 1 0]]\n"
     ]
    }
   ],
   "source": [
    "import numpy as np\n",
    "x = np.array([[0, 1, 1, 1],\n",
    "              [0, 1, 0, 0],\n",
    "              [1, 1, 0, 0]])\n",
    "w = np.array([[-2, 0, 2, 2],\n",
    "              [-1, 2, 1, -1],\n",
    "              [4, -3, 1, 0],\n",
    "              [1, 1, 0, -3]])\n",
    "h = np.array([1, 0, 0, 2])\n",
    "\n",
    "y = formal_neuron(x, w, h)\n",
    "print(y)"
   ]
  },
  {
   "cell_type": "markdown",
   "metadata": {
    "colab_type": "text",
    "id": "PAdtNqOcrrTV"
   },
   "source": [
    "## Example 1.7"
   ]
  },
  {
   "cell_type": "code",
   "execution_count": 52,
   "metadata": {
    "colab": {},
    "colab_type": "code",
    "id": "7bDWbjrXrqZ2"
   },
   "outputs": [
    {
     "name": "stdout",
     "output_type": "stream",
     "text": [
      "[[0 0]\n",
      " [0 0]\n",
      " [1 0]\n",
      " [1 1]\n",
      " [0 0]\n",
      " [1 0]\n",
      " [1 0]\n",
      " [1 1]]\n"
     ]
    }
   ],
   "source": [
    "import numpy as np\n",
    "\n",
    "class FormalNeuronLayer:\n",
    "  def __init__(self, w, h):\n",
    "    self.w = w\n",
    "    self.h = h\n",
    "    \n",
    "  def forward(self, x):\n",
    "    p = np.dot(x, self.w)\n",
    "    y = p > self.h\n",
    "    return y.astype(np.int)\n",
    "\n",
    "x = np.array([[0,0,0],\n",
    "              [0,0,1],\n",
    "              [0,1,0],\n",
    "              [0,1,1],\n",
    "              [1,0,0],\n",
    "              [1,0,1],\n",
    "              [1,1,0],\n",
    "              [1,1,1]])\n",
    "w = np.array([[0.5, 0.0],\n",
    "              [1.0, 0.5],\n",
    "              [0.5, 1.0]])\n",
    "h = np.array([0.5, 1.0])\n",
    "\n",
    "formalNeuron = FormalNeuronLayer(w,h)\n",
    "y = formalNeuron.forward(x)\n",
    "print(y)"
   ]
  },
  {
   "cell_type": "markdown",
   "metadata": {
    "colab_type": "text",
    "id": "p75TMv_JEYtu"
   },
   "source": [
    "## Exercise 1.14"
   ]
  },
  {
   "cell_type": "code",
   "execution_count": 53,
   "metadata": {
    "colab": {},
    "colab_type": "code",
    "id": "hl7j6UMoEX0q"
   },
   "outputs": [
    {
     "name": "stdout",
     "output_type": "stream",
     "text": [
      "[[1 0 1 0]\n",
      " [0 1 1 0]\n",
      " [0 1 1 0]]\n"
     ]
    }
   ],
   "source": [
    "import numpy as np\n",
    "\n",
    "class FormalNeuronLayer:\n",
    "  def __init__(self, w, h):\n",
    "    self.w = w\n",
    "    self.h = h\n",
    "    \n",
    "  def forward(self, x):\n",
    "    p = np.dot(x, self.w)\n",
    "    y = p > self.h\n",
    "    return y.astype(np.int)\n",
    "    \n",
    "x = np.array([[0, 1, 1, 1],\n",
    "              [0, 1, 0, 0],\n",
    "              [1, 1, 0, 0]])\n",
    "w = np.array([[-2, 0, 2, 2],\n",
    "              [-1, 2, 1, -1],\n",
    "              [4, -3, 1, 0],\n",
    "              [1, 1, 0, -3]])\n",
    "h = np.array([1, 0, 0, 2])\n",
    "\n",
    "formalNeuron = FormalNeuronLayer(w,h)\n",
    "y = formalNeuron.forward(x)\n",
    "print(y)"
   ]
  },
  {
   "cell_type": "markdown",
   "metadata": {
    "colab_type": "text",
    "id": "ifNFnliJEdav"
   },
   "source": [
    "## Example 1.8"
   ]
  },
  {
   "cell_type": "code",
   "execution_count": 54,
   "metadata": {
    "colab": {},
    "colab_type": "code",
    "id": "-l9cp1-9EuCj"
   },
   "outputs": [
    {
     "name": "stdout",
     "output_type": "stream",
     "text": [
      "[[0 0 0]\n",
      " [0 0 0]\n",
      " [1 0 0]\n",
      " [1 0 0]\n",
      " [0 0 0]\n",
      " [1 1 0]\n",
      " [1 0 1]\n",
      " [1 1 1]]\n",
      "[[0 0]\n",
      " [0 0]\n",
      " [0 1]\n",
      " [0 1]\n",
      " [0 0]\n",
      " [1 1]\n",
      " [0 1]\n",
      " [1 1]]\n"
     ]
    }
   ],
   "source": [
    "import numpy as np\n",
    "\n",
    "class FormalNeuronLayer:\n",
    "  def __init__(self, w, h):\n",
    "    self.w = w\n",
    "    self.h = h\n",
    "    \n",
    "  def forward(self, x):\n",
    "    p = np.dot(x, self.w)\n",
    "    y = p > self.h\n",
    "    return y.astype(np.int)\n",
    "\n",
    "x = np.array([[0,0,0],\n",
    "              [0,0,1],\n",
    "              [0,1,0],\n",
    "              [0,1,1],\n",
    "              [1,0,0],\n",
    "              [1,0,1],\n",
    "              [1,1,0],\n",
    "              [1,1,1]])\n",
    "w = np.array([[0.5, 1.0, 1.0],\n",
    "              [1.0, 0.5, 0.5],\n",
    "              [0.5, 1.0, 0.0]])\n",
    "h = np.array([0.5, 1.5, 1.0])\n",
    "u = np.array([[1.0, 0.5],\n",
    "              [0.5, 0.0],\n",
    "              [0.0, 1.0]])\n",
    "g = np.array([1.0, 0.0])\n",
    "\n",
    "formalNeuron1 = FormalNeuronLayer(w,h)\n",
    "formalNeuron2 = FormalNeuronLayer(u,g)\n",
    "y = formalNeuron1.forward(x)\n",
    "print(y)\n",
    "z = formalNeuron2.forward(y)\n",
    "print(z)"
   ]
  },
  {
   "cell_type": "markdown",
   "metadata": {
    "colab_type": "text",
    "id": "pF9sywOJL-AC"
   },
   "source": [
    "## Exercise 1.15"
   ]
  },
  {
   "cell_type": "code",
   "execution_count": 55,
   "metadata": {
    "colab": {},
    "colab_type": "code",
    "id": "ooQTJN-SKG90"
   },
   "outputs": [
    {
     "name": "stdout",
     "output_type": "stream",
     "text": [
      "[[0 1 0 0]\n",
      " [0 1 0 0]\n",
      " [0 1 0 0]\n",
      " [0 1 1 1]]\n",
      "[[0 0]\n",
      " [0 0]\n",
      " [0 0]\n",
      " [1 1]]\n"
     ]
    }
   ],
   "source": [
    "import numpy as np\n",
    "\n",
    "class FormalNeuronLayer:\n",
    "  def __init__(self, w, h):\n",
    "    self.w = w\n",
    "    self.h = h\n",
    "    \n",
    "  def forward(self, x):\n",
    "    p = np.dot(x, self.w)\n",
    "    y = p > self.h\n",
    "    return y.astype(np.int)\n",
    "\n",
    "x = np.array([[1, 1, 1],\n",
    "              [0, 1, 0],\n",
    "              [1, 0, 0],\n",
    "              [1, 0, 1]])\n",
    "w = np.array([[-2, 1, 0, 1],\n",
    "              [0, 1, -2, -1],\n",
    "              [1, 0, 1, 1]])\n",
    "h = np.array([2, -1, 0, 1])\n",
    "u = np.array([[4, 1],\n",
    "              [2, 3],\n",
    "              [0, 1],\n",
    "              [3, 1]])\n",
    "g = np.array([2, 4])\n",
    "\n",
    "formalNeuron1 = FormalNeuronLayer(w, h)\n",
    "formalNeuron2 = FormalNeuronLayer(u, g)\n",
    "y = formalNeuron1.forward(x)\n",
    "print(y)\n",
    "z = formalNeuron2.forward(y)\n",
    "print(z)"
   ]
  },
  {
   "cell_type": "markdown",
   "metadata": {
    "colab_type": "text",
    "id": "DUGC8NopMABS"
   },
   "source": [
    "## Exercise 1.16"
   ]
  },
  {
   "cell_type": "code",
   "execution_count": 56,
   "metadata": {
    "colab": {},
    "colab_type": "code",
    "id": "M0ybkp89MB0q"
   },
   "outputs": [
    {
     "name": "stdout",
     "output_type": "stream",
     "text": [
      "[[1 0 1 1]\n",
      " [1 0 1 1]\n",
      " [1 0 1 1]\n",
      " [1 0 1 0]\n",
      " [0 0 0 1]]\n",
      "[[1 0 1 1]\n",
      " [1 0 1 1]\n",
      " [1 0 1 1]\n",
      " [1 0 1 1]\n",
      " [1 0 0 0]]\n"
     ]
    }
   ],
   "source": [
    "import numpy as np\n",
    "\n",
    "class FormalNeuronLayer:\n",
    "  def __init__(self, w, h):\n",
    "    self.w = w\n",
    "    self.h = h\n",
    "    \n",
    "  def forward(self, x):\n",
    "    p = np.dot(x, self.w)\n",
    "    y = p > self.h\n",
    "    return y.astype(np.int)\n",
    "\n",
    "x = np.array([[1, 1, 1, 1],\n",
    "              [0, 1, 0, 0],\n",
    "              [0, 1, 1, 0],\n",
    "              [1, 0, 0, 0],\n",
    "              [0, 0, 1, 1]])\n",
    "w = np.array([[3, 2, 2, 0],\n",
    "              [4, 1, 5, 2],\n",
    "              [1, 0, 1, 4],\n",
    "              [0, 1, 0, 1]])\n",
    "h = np.array([2, 6, 1, 0])\n",
    "u = np.array([[4, 1, 4, 3],\n",
    "              [2, 3, 0, 1],\n",
    "              [0, 1, 2, 4],\n",
    "              [3, 1, 1, 2]])\n",
    "g = np.array([1, 4, 3, 5])\n",
    "\n",
    "formalNeuron1 = FormalNeuronLayer(w, h)\n",
    "formalNeuron2 = FormalNeuronLayer(u, g)\n",
    "y = formalNeuron1.forward(x)\n",
    "print(y)\n",
    "z = formalNeuron2.forward(y)\n",
    "print(z)"
   ]
  }
 ],
 "metadata": {
  "colab": {
   "collapsed_sections": [],
   "name": "Introduction to Machine Learning Chapter 1.ipynb",
   "provenance": [],
   "toc_visible": true
  },
  "kernelspec": {
   "display_name": "Python 3",
   "language": "python",
   "name": "python3"
  },
  "language_info": {
   "codemirror_mode": {
    "name": "ipython",
    "version": 3
   },
   "file_extension": ".py",
   "mimetype": "text/x-python",
   "name": "python",
   "nbconvert_exporter": "python",
   "pygments_lexer": "ipython3",
   "version": "3.8.3"
  }
 },
 "nbformat": 4,
 "nbformat_minor": 1
}
